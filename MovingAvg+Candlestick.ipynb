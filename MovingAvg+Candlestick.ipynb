import datetime as dt
import matplotlib.pyplot as plt
import pandas as pd
import pandas_datareader.data as web
import numpy as np

start = dt.datetime(2018,1,1)
end = dt.datetime(2020,4,7)

df = web.DataReader('3988.hk', 'yahoo', start, end)

adj_close_p =  df['Adj Close']
df['3988.hk'] =  adj_close_p

df['10'] = adj_close_p.rolling(window=10).mean()
df['50'] = adj_close_p.rolling(window=50).mean()
df[['3988.hk', '10', '50']].plot(figsize=(14,6), grid = True)

plt.show()
---------------------------------------------------------------
import datetime as dt
import matplotlib.pyplot as plt
import pandas as pd
import pandas_datareader.data as web
import numpy as np
import plotly.graph_objects as go


start = dt.datetime(2018,1,1)
end = dt.datetime(2020,4,7)

df = web.DataReader('3988.hk', 'yahoo', start, end)
df.to_csv('3988.csv')
df = pd.read_csv('3988.csv')


fig = go.Figure(data=[go.Candlestick(x=df['Date'],
                open=df['Open'],
                high=df['High'],
                low=df['Low'],
                close=df['Close'])])

fig.show()
